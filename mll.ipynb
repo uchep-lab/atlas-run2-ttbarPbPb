{
 "cells": [
  {
   "cell_type": "code",
   "execution_count": 1,
   "id": "e3ec29fd-88e4-4d05-90b3-c8d0dc0bb038",
   "metadata": {},
   "outputs": [
    {
     "name": "stderr",
     "output_type": "stream",
     "text": [
      "WARNING: pip is being invoked by an old script wrapper. This will fail in a future version of pip.\n",
      "Please see https://github.com/pypa/pip/issues/5599 for advice on fixing the underlying issue.\n",
      "To avoid this problem you can invoke Python with '-m pip' instead of running pip directly.\n"
     ]
    },
    {
     "data": {
      "text/html": [
       "<pre style=\"white-space:pre;overflow-x:auto;line-height:normal;font-family:Menlo,'DejaVu Sans Mono',consolas,'Courier New',monospace\">Collecting h5py\n",
       "</pre>\n"
      ],
      "text/plain": [
       "Collecting h5py\n"
      ]
     },
     "metadata": {},
     "output_type": "display_data"
    },
    {
     "data": {
      "text/html": [
       "<pre style=\"white-space:pre;overflow-x:auto;line-height:normal;font-family:Menlo,'DejaVu Sans Mono',consolas,'Courier New',monospace\">  Using cached h5py-3.11.0-cp39-cp39-manylinux_2_17_x86_64.manylinux2014_x86_64.whl.metadata (2.5 kB)\n",
       "</pre>\n"
      ],
      "text/plain": [
       "  Using cached h5py-3.11.0-cp39-cp39-manylinux_2_17_x86_64.manylinux2014_x86_64.whl.metadata (2.5 kB)\n"
      ]
     },
     "metadata": {},
     "output_type": "display_data"
    },
    {
     "data": {
      "text/html": [
       "<pre style=\"white-space:pre;overflow-x:auto;line-height:normal;font-family:Menlo,'DejaVu Sans Mono',consolas,'Courier New',monospace\">Requirement already satisfied: numpy&gt;=1.17.3 in /venv/lib/python3.9/site-packages (from h5py) (1.24.4)\n",
       "</pre>\n"
      ],
      "text/plain": [
       "Requirement already satisfied: numpy>=1.17.3 in /venv/lib/python3.9/site-packages (from h5py) (1.24.4)\n"
      ]
     },
     "metadata": {},
     "output_type": "display_data"
    },
    {
     "data": {
      "text/html": [
       "<pre style=\"white-space:pre;overflow-x:auto;line-height:normal;font-family:Menlo,'DejaVu Sans Mono',consolas,'Courier New',monospace\">Using cached h5py-3.11.0-cp39-cp39-manylinux_2_17_x86_64.manylinux2014_x86_64.whl (5.3 MB)\n",
       "</pre>\n"
      ],
      "text/plain": [
       "Using cached h5py-3.11.0-cp39-cp39-manylinux_2_17_x86_64.manylinux2014_x86_64.whl (5.3 MB)\n"
      ]
     },
     "metadata": {},
     "output_type": "display_data"
    },
    {
     "data": {
      "text/html": [
       "<pre style=\"white-space:pre;overflow-x:auto;line-height:normal;font-family:Menlo,'DejaVu Sans Mono',consolas,'Courier New',monospace\">Installing collected packages: h5py\n",
       "</pre>\n"
      ],
      "text/plain": [
       "Installing collected packages: h5py\n"
      ]
     },
     "metadata": {},
     "output_type": "display_data"
    },
    {
     "data": {
      "text/html": [
       "<pre style=\"white-space:pre;overflow-x:auto;line-height:normal;font-family:Menlo,'DejaVu Sans Mono',consolas,'Courier New',monospace\">Successfully installed h5py-3.11.0\n",
       "</pre>\n"
      ],
      "text/plain": [
       "Successfully installed h5py-3.11.0\n"
      ]
     },
     "metadata": {},
     "output_type": "display_data"
    },
    {
     "name": "stdout",
     "output_type": "stream",
     "text": [
      "Welcome to JupyROOT 6.28/12\n"
     ]
    }
   ],
   "source": [
    "# python imports\n",
    "import pip\n",
    "try:\n",
    "    __import__(\"h5py\")\n",
    "except ImportError:\n",
    "    pip.main(['install', \"h5py\"])  \n",
    "import h5py\n",
    "import numpy as np\n",
    "import ROOT\n",
    "import json\n",
    "import sys\n",
    "import uproot\n",
    "\n",
    "# custom scripts\n",
    "from utils.histograms import extended_hist\n",
    "import utils.rootformatting as rf\n",
    "rf.atlasstyle()\n",
    "\n",
    "# root settings\n",
    "palette=(70,0,1)           \n",
    "ROOT.gStyle.SetPalette(palette[0],palette[1],palette[2])\n",
    "ROOT.gStyle.SetGridStyle(1)\n",
    "ROOT.gStyle.SetGridWidth(1)\n",
    "\n",
    "def makeHist(name, binValues, binValuesStatErrs, binLow, binWidth):\n",
    "    h = ROOT.TH1D(name, \"\", len(binValues), binLow, float(len(binValues))*binWidth+binLow)\n",
    "    for (iBin, val) in enumerate(binValues):\n",
    "        h.SetBinContent(iBin+1, val)\n",
    "        h.SetBinError(iBin+1, binValuesStatErrs[iBin])\n",
    "    return h"
   ]
  },
  {
   "cell_type": "code",
   "execution_count": 2,
   "id": "4ee1cda8-efad-4ef1-b856-345194ca9c4a",
   "metadata": {},
   "outputs": [],
   "source": [
    "# settings\n",
    "samples = {\n",
    "\t\"data\" : [\"Data\", ROOT.kBlack], # black\n",
    "\t\"ttbar\" : [\"t#bar{t}\", ROOT.kRed], # red\n",
    "\t\"Wt\" : [\"tW\", ROOT.kOrange],\n",
    "\t\"WW\" : [\"WW\", ROOT.kGreen],\n",
    "\t\"Zee\" : [\"Z#rightarrowee\", ROOT.kBlue+1],\n",
    "\t\"Zmumu\": [\"Z#rightarrow#mu#mu\", ROOT.kBlue+2],\n",
    "\t\"Ztautau\": [\"Z#rightarrow#tau#tau\", ROOT.kBlue],\n",
    "\t\"fake\" : [\"Fake lepton\", ROOT.kViolet]\n",
    "}\n",
    "norm = True"
   ]
  },
  {
   "cell_type": "code",
   "execution_count": 8,
   "id": "ce4a6a74-a5ad-47f1-85a1-d32dfe859e1f",
   "metadata": {},
   "outputs": [
    {
     "name": "stdout",
     "output_type": "stream",
     "text": [
      "CR data 17.0\n",
      "SR data 25.0\n",
      "CR ttbar 3.5179073665274383\n",
      "SR ttbar 12.9733977575396\n",
      "CR Wt 0.2049542232045246\n",
      "SR Wt 0.7720165433904068\n",
      "CR WW 1.0661345294666147\n",
      "SR WW 1.3718877507525298\n",
      "CR Zee 0.0\n",
      "SR Zee 0.0\n",
      "CR Zmumu 0.0\n",
      "SR Zmumu 0.0\n",
      "CR Ztautau 4.806710741539668\n",
      "SR Ztautau 0.6873591694069038\n",
      "CR fake 8.740439504970375\n",
      "SR fake 3.361707501911683\n"
     ]
    },
    {
     "name": "stderr",
     "output_type": "stream",
     "text": [
      "Warning in <TROOT::Append>: Replacing existing TH1: h_SR_fake (Potential memory leak).\n"
     ]
    }
   ],
   "source": [
    "# load data\n",
    "inFileName = \"/home/abadea/analysis/ttbarPbPb/AnalysisTop/run/TRExFitter/input/PbPbv33/hists.root\"\n",
    "f = uproot.open(inFileName)\n",
    "\n",
    "# bin settings\n",
    "limits = [0,330]\n",
    "binWidth = 30\n",
    "nbins = int((limits[1]-limits[0])/binWidth)\n",
    "bins = np.linspace(limits[0],limits[1],nbins+1)\n",
    "binLow = bins[0]\n",
    "binCenters = (bins + binWidth/2)[:-1]\n",
    "\n",
    "# histogram\n",
    "trees = [i for i in f.keys() if \"nominal\" in i and \"emu\" in i]\n",
    "regions = [\"CR\", \"SR\"]\n",
    "H = {} # histograms\n",
    "I = {} # integrals\n",
    "\n",
    "# populate\n",
    "for region in regions:\n",
    "    H[region] = {}\n",
    "    I[region] = {}\n",
    "\n",
    "# histogram\n",
    "for t in trees:\n",
    "    \n",
    "    # load\n",
    "    sample = t.split(\"_nominal\")[0].split(\"emu_\")[1]\n",
    "    label, color = samples[sample]\n",
    "    mll = np.array(f[t]['mll'].array()).flatten()\n",
    "    w = np.array(f[t]['weight'].array()).flatten()\n",
    "    # cuts\n",
    "    llpt = np.array(f[t]['llpt'].array())\n",
    "\n",
    "    # CR and SR\n",
    "    for region in regions:\n",
    "        \n",
    "        # cuts\n",
    "        cut = (llpt > 40) if region == \"SR\" else (llpt <= 40)\n",
    "        \n",
    "        # histogram and normalize\n",
    "        binValues, binValuesStatErrs, bin_centers, bin_edges = extended_hist(x=mll[cut], nbins=nbins, limits=limits, underflow=False, overflow=False, weights=w[cut])\n",
    "        H[region][sample] = makeHist(f\"h_{region}_{sample}\", binValues, binValuesStatErrs, binLow, binWidth)\n",
    "        I[region][sample] = H[region][sample].Integral()\n",
    "        if norm: \n",
    "            print(region, sample, H[region][sample].Integral())\n",
    "            try:\n",
    "                H[region][sample].Scale(1./H[region][sample].Integral())\n",
    "            except:\n",
    "                continue"
   ]
  },
  {
   "cell_type": "code",
   "execution_count": 9,
   "id": "670dbf53-6f1e-40b7-865d-ab2e9846ad3e",
   "metadata": {},
   "outputs": [
    {
     "name": "stdout",
     "output_type": "stream",
     "text": [
      "Zee 0.0\n",
      "Zmumu 0.0\n",
      "Zee 0.0\n",
      "Zmumu 0.0\n"
     ]
    },
    {
     "name": "stderr",
     "output_type": "stream",
     "text": [
      "Info in <TCanvas::Print>: pdf file mll_CR_30GeV.pdf has been created\n",
      "Info in <TCanvas::Print>: pdf file mll_SR_30GeV.pdf has been created\n"
     ]
    },
    {
     "data": {
      "image/png": "[encoded data removed]",
      "text/plain": [
       "<IPython.core.display.Image object>"
      ]
     },
     "metadata": {},
     "output_type": "display_data"
    },
    {
     "data": {
      "image/png": "[encoded data removed]",
      "text/plain": [
       "<IPython.core.display.Image object>"
      ]
     },
     "metadata": {},
     "output_type": "display_data"
    }
   ],
   "source": [
    "# hist style\n",
    "style1d = { \n",
    "    \"title\": \"\",\n",
    "    \"x_title_offset\": 1.1,\n",
    "    \"x_label_size\": 0.045,\n",
    "    \"y_title_offset\": 1.4,\n",
    "    \"y_label_size\": 0.045,\n",
    "    \"title_font\": 42,\n",
    "    \"label_font\": 42,\n",
    "    \"fill_color\": 0,\n",
    "    \"x_title\":\"m_{ll} [GeV]\",\n",
    "    \"y_title\":f\"Fraction of events / {binWidth} GeV\",\n",
    "    \"y_n_divisions\" : 808,\n",
    "    \"x_n_divisions\" : 808,\n",
    "}\n",
    "ROOT.gStyle.SetGridStyle(2)\n",
    "ROOT.gStyle.SetGridWidth(1)\n",
    "binString = f\"{binWidth}GeV\"\n",
    "withoutFakeLeptons = False\n",
    "if withoutFakeLeptons:\n",
    "    binString += \"_withoutFakeLeptons\"\n",
    "\n",
    "c = {}\n",
    "leg = {}\n",
    "\n",
    "for region in regions:\n",
    "\n",
    "    c[region] = ROOT.TCanvas(f\"c_{region}\",\"\",0,0,600,600)\n",
    "    \n",
    "    # legend\n",
    "    l, lw = 0.64, 0.2 # left, left + width\n",
    "    t, tw = 0.91, 0.33 # top, top - width\n",
    "    leg[region] = ROOT.TLegend(l, t-tw, l+lw, t)\n",
    "    leg[region].SetBorderSize(0)\n",
    "    leg[region].SetFillColor(0)\n",
    "    leg[region].SetFillStyle(0)\n",
    "    leg[region].SetTextFont(42)\n",
    "    leg[region].SetTextSize(0.035)\n",
    "    \n",
    "    # histograms\n",
    "    for sample, h in H[region].items():\n",
    "        label, color = samples[sample]\n",
    "        if h.Integral() == 0:\n",
    "            print(sample, h.Integral())\n",
    "            # continue\n",
    "        if withoutFakeLeptons and sample == \"fake\":\n",
    "            continue\n",
    "        rf.format_hist(h, **style1d)\n",
    "        h.GetYaxis().SetRangeUser(0,1.0)\n",
    "        h.GetXaxis().SetRangeUser(0,300)\n",
    "        h.SetLineColor(color)\n",
    "        h.SetLineWidth(3)\n",
    "        h.GetXaxis().CenterTitle(False)\n",
    "        h.GetYaxis().CenterTitle(False)\n",
    "        if sample == \"data\":\n",
    "            continue # was asked to not include data\n",
    "            h.Draw(\"E1\")\n",
    "            leg[region].AddEntry(h, f\"{label} ({I[region][sample]:.1f})\", \"pe\")\n",
    "        else:\n",
    "            h.Draw(\"hist same\")\n",
    "            leg[region].AddEntry(h, f\"{label} ({I[region][sample]:.1f})\", \"l\")\n",
    "        \n",
    "    # draw label\n",
    "    left, top, wd, fs = 0.195, 0.87, 0.04, 0.03 # 0.2\n",
    "    stamps = [\n",
    "        rf.myText(left, top, 1, \"#it{#bf{ATLAS}} Internal\", 0.06),\n",
    "        rf.myText(left, top-1*wd, 1, \"Pb+Pb #sqrt{s_{NN}} = 5.02 TeV, 1.9 nb^{-1}\", 0.033),\n",
    "        rf.myText(left, top-2*wd, 1, f\"channel: e#mu {region}\", 0.033), # SR, Pre-Fit, \n",
    "        rf.myText(left, top-3*wd, 1, \"centrality: 0-80%\", 0.033),\n",
    "        # rf.myText(left, top-4*wd, 1, \"p_{T}^{ll} > 40 GeV,  n_{jets} #geq 2\", 0.035),\n",
    "        # rf.myText(left+0.1, top-3*wd, 1, \"#geq 2 jets\", 0.04),\n",
    "    ]\n",
    "    for stamp in stamps:\n",
    "        stamp.Draw()\n",
    "    \n",
    "    leg[region].Draw()\n",
    "    \n",
    "    c[region].SaveAs(f\"mll_{region}_{binString}.pdf\")\n",
    "    c[region].Draw()"
   ]
  }
 ],
 "metadata": {
  "kernelspec": {
   "display_name": "Python 3 (ipykernel)",
   "language": "python",
   "name": "python3"
  },
  "language_info": {
   "codemirror_mode": {
    "name": "ipython",
    "version": 3
   },
   "file_extension": ".py",
   "mimetype": "text/x-python",
   "name": "python",
   "nbconvert_exporter": "python",
   "pygments_lexer": "ipython3",
   "version": "3.9.12"
  }
 },
 "nbformat": 4,
 "nbformat_minor": 5
}
